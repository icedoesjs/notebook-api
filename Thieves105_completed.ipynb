{
 "cells": [
  {
   "cell_type": "markdown",
   "id": "7196054f",
   "metadata": {},
   "source": [
    "# Working with APIs"
   ]
  },
  {
   "cell_type": "markdown",
   "id": "0547b71e",
   "metadata": {},
   "source": [
    "API stands for Application programming interface<br>\n",
    "APIs are a way for applications to talk to eachother<br>\n",
    "In python we use the requests package to handle the connection<br>\n",
    "<small><strong>Note: It is requests with an s not request(this is a different package)</strong></small><br>\n",
    "Most API's communicate with data in the form of JSON<br>\n",
    "JSON stands for JavaScript Object Notation"
   ]
  },
  {
   "cell_type": "code",
   "execution_count": 2,
   "id": "4db9d154",
   "metadata": {},
   "outputs": [],
   "source": [
    "#import the packages we need:\n",
    "import requests"
   ]
  },
  {
   "cell_type": "markdown",
   "id": "e8c2ce51",
   "metadata": {},
   "source": [
    "We will be connecting to the Ergast F1 Racer API today:\n",
    "http://ergast.com/mrd/\n",
    "\n",
    "to view JSON data nicely in the Chrome browser install the extension JSONview"
   ]
  },
  {
   "cell_type": "code",
   "execution_count": 4,
   "id": "52c440c6",
   "metadata": {},
   "outputs": [],
   "source": [
    "# The API we're accessing\n",
    "# Make sure to attach extension .json at the end of url\n",
    "url = 'http://ergast.com/api/f1/2008/5/driverStandings.json'"
   ]
  },
  {
   "cell_type": "code",
   "execution_count": 5,
   "id": "f60c1b4a",
   "metadata": {},
   "outputs": [],
   "source": [
    "# using the request package to access data from api/url\n",
    "response = requests.get(url)"
   ]
  },
  {
   "cell_type": "code",
   "execution_count": 12,
   "id": "c6d1fdaf",
   "metadata": {},
   "outputs": [
    {
     "name": "stdout",
     "output_type": "stream",
     "text": [
      "True\n"
     ]
    }
   ],
   "source": [
    "#check and make sure we got a successful response from the API\n",
    "#response.status_code: 200 = Success, 400 = Failed\n",
    "#response.ok: True = Success, False = Failed\n",
    "response.status_code\n",
    "response.ok"
   ]
  },
  {
   "cell_type": "code",
   "execution_count": 22,
   "id": "ed4d3256",
   "metadata": {},
   "outputs": [],
   "source": [
    "#view the response as a JSON\n",
    "# response.json()"
   ]
  },
  {
   "cell_type": "code",
   "execution_count": 6,
   "id": "92e6cd2c",
   "metadata": {},
   "outputs": [
    {
     "data": {
      "text/plain": [
       "dict"
      ]
     },
     "execution_count": 6,
     "metadata": {},
     "output_type": "execute_result"
    }
   ],
   "source": [
    "# .json() is a dictionary type\n",
    "type(response.json())"
   ]
  },
  {
   "cell_type": "code",
   "execution_count": 26,
   "id": "f074dfcf",
   "metadata": {},
   "outputs": [],
   "source": [
    "# We only want the Driver Standings\n",
    "driver_standings_data = response.json()['MRData']['StandingsTable']['StandingsLists'][0]['DriverStandings']\n",
    "# driver_standings_data"
   ]
  },
  {
   "cell_type": "code",
   "execution_count": 34,
   "id": "be46a950",
   "metadata": {},
   "outputs": [],
   "source": [
    "# Use a for loop to display all driver full names\n",
    "driver_standings_data[0]\n",
    "for driver in driver_standings_data:\n",
    "    print(driver['Driver']['givenName'], driver['Driver']['familyName'])"
   ]
  },
  {
   "cell_type": "code",
   "execution_count": 37,
   "id": "3740c752",
   "metadata": {},
   "outputs": [
    {
     "name": "stdout",
     "output_type": "stream",
     "text": [
      "---------- The F1 Racing Stats for the Year 2008 ----------\n"
     ]
    }
   ],
   "source": [
    "# Create a function getting certain driver info (givenName, familyName, dateOfBirth, wins, team)\n",
    "def get_driver_info(data):\n",
    "    new_driver_data = []\n",
    "    for driver in data:\n",
    "        driver_dict = {}\n",
    "        full_name = driver['Driver']['givenName'] + ' ' + driver['Driver']['familyName']\n",
    "        driver_key = full_name\n",
    "        driver_dict[driver_key] = {\n",
    "            'date_of_birth': driver['Driver']['dateOfBirth'],\n",
    "            'number_of_wins': driver['wins'],\n",
    "            'team': driver['Constructors'][0]['name']\n",
    "        }\n",
    "        new_driver_data.append(driver_dict)\n",
    "    return new_driver_data\n",
    "\n",
    "print('---------- The F1 Racing Stats for the Year 2008 ----------')\n",
    "# get_driver_info(driver_standings_data)"
   ]
  },
  {
   "cell_type": "code",
   "execution_count": 39,
   "id": "c0a568ef",
   "metadata": {},
   "outputs": [],
   "source": [
    "#Making a more flexible function to handle different years and rounds\n",
    "def get_driver_info_year_round(year, rnd):\n",
    "    url = f'http://ergast.com/api/f1/{year}/{rnd}/driverStandings.json'\n",
    "    response = requests.get(url)\n",
    "    if response.ok:\n",
    "        data = response.json()['MRData']['StandingsTable']['StandingsLists'][0]['DriverStandings']\n",
    "        return get_driver_info(data)\n",
    "    else:\n",
    "        return 'That year or round is invalid.'\n",
    "\n",
    "# get_driver_info_year_round(2020, 5)"
   ]
  },
  {
   "cell_type": "markdown",
   "id": "6d546014",
   "metadata": {},
   "source": [
    "# <strong>Homework</strong>\n",
    "check out this Pokemon API https://pokeapi.co/\n",
    "Use the requests package to connect to this API and get and store data for 5 different pokemon.\n",
    "Get the pokemons: name, atleast one ability's name, base_experience, and the URL for its sprite (an image that shows up on screen) for the 'front_shiny', attack base_stat, hp base_stat, defense base_stat"
   ]
  },
  {
   "cell_type": "code",
   "execution_count": 39,
   "id": "5a9081e3",
   "metadata": {},
   "outputs": [
    {
     "name": "stdout",
     "output_type": "stream",
     "text": [
      "Here is the data for your current deck:\n",
      "\n",
      "\n",
      "{'pikachu': {'ability': 'lightning-rod', 'base_exp': 112, 'front_shiny': 'https://raw.githubusercontent.com/PokeAPI/sprites/master/sprites/pokemon/shiny/25.png', 'attack_base': 55, 'hp_base': 35, 'defense_base': 40}, 'bulbasaur': {'ability': 'chlorophyll', 'base_exp': 64, 'front_shiny': 'https://raw.githubusercontent.com/PokeAPI/sprites/master/sprites/pokemon/shiny/1.png', 'attack_base': 49, 'hp_base': 45, 'defense_base': 49}, 'ditto': {'ability': 'imposter', 'base_exp': 101, 'front_shiny': 'https://raw.githubusercontent.com/PokeAPI/sprites/master/sprites/pokemon/shiny/132.png', 'attack_base': 48, 'hp_base': 48, 'defense_base': 48}, 'squirtle': {'ability': 'rain-dish', 'base_exp': 63, 'front_shiny': 'https://raw.githubusercontent.com/PokeAPI/sprites/master/sprites/pokemon/shiny/7.png', 'attack_base': 48, 'hp_base': 44, 'defense_base': 65}, 'charmander': {'ability': 'solar-power', 'base_exp': 62, 'front_shiny': 'https://raw.githubusercontent.com/PokeAPI/sprites/master/sprites/pokemon/shiny/4.png', 'attack_base': 52, 'hp_base': 39, 'defense_base': 43}}\n"
     ]
    }
   ],
   "source": [
    "from requests import get \n",
    "from time import sleep\n",
    "\n",
    "my_deck = {}\n",
    "\n",
    "def getpmInfo(name):\n",
    "    url = f'https://pokeapi.co/api/v2/pokemon/{name}'\n",
    "    res = get(url)\n",
    "    if res.ok:\n",
    "        data = res.json()\n",
    "        return data \n",
    "    else:\n",
    "        return False\n",
    "    \n",
    "def addtoDeck(name, ability, base_exp, sprite_url, attack_base, hp_base, def_base):\n",
    "    my_deck[name] = {}\n",
    "    my_deck[name][\"ability\"] = ability\n",
    "    my_deck[name][\"base_exp\"] = base_exp\n",
    "    my_deck[name][\"front_shiny\"] = sprite_url\n",
    "    my_deck[name][\"attack_base\"] = attack_base\n",
    "    my_deck[name][\"hp_base\"] = hp_base\n",
    "    my_deck[name][\"defense_base\"] = def_base\n",
    "    \n",
    "count = 0\n",
    "\n",
    "while count != 5:\n",
    "    poke = input(\"What pokemon do you want to save data from?\").lower()\n",
    "    data = getpmInfo(poke)\n",
    "    if not data == False:\n",
    "        if not data[\"name\"] in my_deck:\n",
    "            count += 1\n",
    "            name = data[\"name\"]\n",
    "            ability = data[\"abilities\"][1][\"ability\"][\"name\"]\n",
    "            base_exp = data[\"base_experience\"]\n",
    "            sprite_url = data[\"sprites\"][\"front_shiny\"]\n",
    "            attack_base = data[\"stats\"][1][\"base_stat\"]\n",
    "            hp_base = data[\"stats\"][0][\"base_stat\"]\n",
    "            def_base = data[\"stats\"][2][\"base_stat\"]\n",
    "            addtoDeck(name, ability, base_exp, sprite_url, attack_base, hp_base, def_base)\n",
    "        else:\n",
    "            print(\"That pokemon is already in your deck.\")\n",
    "    else:\n",
    "        print(\"That pokemon was not found.\")\n",
    "        \n",
    "print(\"Here is the data for your current deck:\\n\\n\")\n",
    "print(my_deck)  "
   ]
  },
  {
   "cell_type": "code",
   "execution_count": null,
   "id": "3ba8de85",
   "metadata": {},
   "outputs": [],
   "source": []
  }
 ],
 "metadata": {
  "kernelspec": {
   "display_name": "Python 3.10.7 64-bit",
   "language": "python",
   "name": "python3"
  },
  "language_info": {
   "codemirror_mode": {
    "name": "ipython",
    "version": 3
   },
   "file_extension": ".py",
   "mimetype": "text/x-python",
   "name": "python",
   "nbconvert_exporter": "python",
   "pygments_lexer": "ipython3",
   "version": "3.10.7"
  },
  "vscode": {
   "interpreter": {
    "hash": "369f2c481f4da34e4445cda3fffd2e751bd1c4d706f27375911949ba6bb62e1c"
   }
  }
 },
 "nbformat": 4,
 "nbformat_minor": 5
}
